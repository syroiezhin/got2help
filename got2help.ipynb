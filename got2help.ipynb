{
 "cells": [
  {
   "cell_type": "markdown",
   "metadata": {},
   "source": [
    "        __  ______ _       ________  __        _ \n",
    "       / / / / __ \\ |     / / __ \\ \\/ /  _    | |\n",
    "      / /_/ / / / / | /| / / / / /\\  /  (_)   / /\n",
    "     / __  / /_/ /| |/ |/ / /_/ / / /  _     / / \n",
    "    /_/ /_/\\____/ |__/|__/_____/ /_/  (_)  _/_/  \n",
    "                                          /_/    \n",
    "                                                      \n",
    "               5168 7450 1701 5535     \n",
    "\n",
    "                 author = Valerij Syroiezhin\n",
    "               telegram = @NEU3RON\n",
    "                  email = v.syroiezhin@gmail.com\n",
    "                    url = https://github.com/syroiezhin"
   ]
  },
  {
   "cell_type": "markdown",
   "metadata": {},
   "source": [
    "#### There are different options for translating text into voice, but in my case, \n",
    "#### since I work on a macos and write a program for Windows, \n",
    "#### I need a universal method, with a minimum amount of code and without various kinds of errors."
   ]
  },
  {
   "cell_type": "code",
   "execution_count": 1,
   "metadata": {},
   "outputs": [
    {
     "ename": "ModuleNotFoundError",
     "evalue": "No module named 'gtts'",
     "output_type": "error",
     "traceback": [
      "\u001b[0;31m---------------------------------------------------------------------------\u001b[0m",
      "\u001b[0;31mModuleNotFoundError\u001b[0m                       Traceback (most recent call last)",
      "\u001b[1;32m/Users/v.syroiezhin/Desktop/github/got2help/got2help.ipynb Cell 3\u001b[0m in \u001b[0;36m<cell line: 1>\u001b[0;34m()\u001b[0m\n\u001b[0;32m----> <a href='vscode-notebook-cell:/Users/v.syroiezhin/Desktop/github/got2help/got2help.ipynb#W2sZmlsZQ%3D%3D?line=0'>1</a>\u001b[0m \u001b[39mfrom\u001b[39;00m \u001b[39mgtts\u001b[39;00m \u001b[39mimport\u001b[39;00m gTTS\n\u001b[1;32m      <a href='vscode-notebook-cell:/Users/v.syroiezhin/Desktop/github/got2help/got2help.ipynb#W2sZmlsZQ%3D%3D?line=1'>2</a>\u001b[0m \u001b[39mfrom\u001b[39;00m \u001b[39mos\u001b[39;00m \u001b[39mimport\u001b[39;00m path, system\n\u001b[1;32m      <a href='vscode-notebook-cell:/Users/v.syroiezhin/Desktop/github/got2help/got2help.ipynb#W2sZmlsZQ%3D%3D?line=3'>4</a>\u001b[0m \u001b[39mif\u001b[39;00m \u001b[39m__name__\u001b[39m \u001b[39m==\u001b[39m \u001b[39m'\u001b[39m\u001b[39m__main__\u001b[39m\u001b[39m'\u001b[39m:\n",
      "\u001b[0;31mModuleNotFoundError\u001b[0m: No module named 'gtts'"
     ]
    }
   ],
   "source": [
    "from gtts import gTTS\n",
    "from os import path, system\n",
    "\n",
    "if __name__ == '__main__':\n",
    "    try:\n",
    "        tts = gTTS('как твои дела, друг', lang='ru')\n",
    "        if path.exists('gtts_0.mp3') == False: tts.save('gtts_0.mp3')\n",
    "        else: print(\"True\")\n",
    "    except: pass\n",
    "    finally: system('afplay gtts_0.mp3')"
   ]
  },
  {
   "cell_type": "markdown",
   "metadata": {},
   "source": [
    "##### The first option, from Google, but there are difficulties with the choice of language, since it does not exist, \n",
    "##### and new solutions need to be invented, although the task does not allow spending a lot of time."
   ]
  },
  {
   "cell_type": "code",
   "execution_count": 13,
   "metadata": {},
   "outputs": [],
   "source": [
    "\n",
    "import pyttsx3\n",
    "if __name__ == '__main__':\n",
    "    try:\n",
    "        tts = pyttsx3.init()\n",
    "        tts.setProperty('voice', tts.getProperty('voices')[49].id) # russian : 19,29,49\n",
    "        tts.say(\"как твои дела, друг\")\n",
    "    except: pass\n",
    "    finally: tts.runAndWait()"
   ]
  },
  {
   "cell_type": "markdown",
   "metadata": {},
   "source": [
    "##### I couldn't help but mention the version from Google, as it is satisfactory, \n",
    "##### but I want to use a more realistic voice, so I'm considering the pyttsx3 package."
   ]
  },
  {
   "cell_type": "code",
   "execution_count": null,
   "metadata": {},
   "outputs": [],
   "source": [
    "import speech_recognition\n",
    "\n",
    "sr = speech_recognition.Recognizer()\n",
    "sr.pause_threshold = 0.5\n",
    "\n",
    "with speech_recognition.Microphone() as mic:\n",
    "    sr.adjust_for_ambient_noise(source=mic, duration=0.5)\n",
    "    audio = sr.listen(source=mic)\n",
    "    query = sr.recognize_google(audio_data=audio, language='ru-RU').lower()\n",
    "\n",
    "print(query)"
   ]
  },
  {
   "cell_type": "markdown",
   "metadata": {},
   "source": [
    "## ⚠️ The above code must be run in a file with the extension \".py\""
   ]
  }
 ],
 "metadata": {
  "kernelspec": {
   "display_name": "Python 3.9.12 ('base')",
   "language": "python",
   "name": "python3"
  },
  "language_info": {
   "codemirror_mode": {
    "name": "ipython",
    "version": 3
   },
   "file_extension": ".py",
   "mimetype": "text/x-python",
   "name": "python",
   "nbconvert_exporter": "python",
   "pygments_lexer": "ipython3",
   "version": "3.9.12"
  },
  "orig_nbformat": 4,
  "vscode": {
   "interpreter": {
    "hash": "5f23284fad75d58360d212629b595dfe6fd02dbd8325e77387b1e5cbaad4e030"
   }
  }
 },
 "nbformat": 4,
 "nbformat_minor": 2
}
